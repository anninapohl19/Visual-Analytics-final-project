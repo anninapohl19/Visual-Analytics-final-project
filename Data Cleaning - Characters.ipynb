{
 "cells": [
  {
   "cell_type": "markdown",
   "metadata": {},
   "source": [
    "# Final Assignement - Visual Analytics"
   ]
  },
  {
   "cell_type": "markdown",
   "metadata": {},
   "source": [
    "by Charlotte, Lena, Lina & Annina"
   ]
  },
  {
   "cell_type": "markdown",
   "metadata": {},
   "source": [
    "### Data Cleaning - Characters Table"
   ]
  },
  {
   "cell_type": "code",
   "execution_count": 1,
   "metadata": {
    "pycharm": {
     "is_executing": true
    }
   },
   "outputs": [],
   "source": [
    "# import packages / libraries\n",
    "import pandas as pd"
   ]
  },
  {
   "cell_type": "markdown",
   "metadata": {},
   "source": [
    "#### Import and basic information"
   ]
  },
  {
   "cell_type": "code",
   "execution_count": 2,
   "metadata": {
    "pycharm": {
     "is_executing": true
    }
   },
   "outputs": [
    {
     "name": "stdout",
     "output_type": "stream",
     "text": [
      "          Name  Gender   Game       Age Age_range  Playable  Sexualization  \\\n",
      "0        Farah  Female  CODMW        27     Adult         1              0   \n",
      "1  Protagonist  Custom    PSS  Teenager  Teenager         1              0   \n",
      "2     Magnolia  Female    PSS   Elderly   Elderly         0              0   \n",
      "3        Sonia  Female    PSS        26     Adult         0              0   \n",
      "4       Marnie  Female    PSS  Teenager  Teenager         0              0   \n",
      "\n",
      "                Id Species Side Relevance Romantic_Interest  \n",
      "0      CODMW_Farah   Human    P        PA                No  \n",
      "1  PSS_Protagonist   Human    P        PA                No  \n",
      "2     PSS_Magnolia   Human    P        SC                No  \n",
      "3        PSS_Sonia   Human    P        SC                No  \n",
      "4       PSS_Marnie   Human    B        MC                No  \n",
      "<class 'pandas.core.frame.DataFrame'>\n",
      "RangeIndex: 637 entries, 0 to 636\n",
      "Data columns (total 12 columns):\n",
      " #   Column             Non-Null Count  Dtype \n",
      "---  ------             --------------  ----- \n",
      " 0   Name               637 non-null    object\n",
      " 1   Gender             637 non-null    object\n",
      " 2   Game               637 non-null    object\n",
      " 3   Age                637 non-null    object\n",
      " 4   Age_range          637 non-null    object\n",
      " 5   Playable           637 non-null    int64 \n",
      " 6   Sexualization      637 non-null    int64 \n",
      " 7   Id                 637 non-null    object\n",
      " 8   Species            637 non-null    object\n",
      " 9   Side               637 non-null    object\n",
      " 10  Relevance          637 non-null    object\n",
      " 11  Romantic_Interest  637 non-null    object\n",
      "dtypes: int64(2), object(10)\n",
      "memory usage: 59.8+ KB\n",
      "None\n",
      "         Playable  Sexualization\n",
      "count  637.000000     637.000000\n",
      "mean     0.193093       0.086342\n",
      "std      0.395035       0.389022\n",
      "min      0.000000       0.000000\n",
      "25%      0.000000       0.000000\n",
      "50%      0.000000       0.000000\n",
      "75%      0.000000       0.000000\n",
      "max      1.000000       3.000000\n"
     ]
    }
   ],
   "source": [
    "characters = pd.read_csv(\"characters.grivg.csv\")\n",
    "print(characters.head())\n",
    "print(characters.info())\n",
    "print(characters.describe())"
   ]
  },
  {
   "cell_type": "markdown",
   "metadata": {},
   "source": [
    "#### Check for duplicates"
   ]
  },
  {
   "cell_type": "code",
   "execution_count": 3,
   "metadata": {},
   "outputs": [
    {
     "data": {
      "text/plain": [
       "0"
      ]
     },
     "execution_count": 3,
     "metadata": {},
     "output_type": "execute_result"
    }
   ],
   "source": [
    "duplicates_char = characters.duplicated()\n",
    "duplicates_char.value_counts()\n",
    "duplicates_char.sum() # no duplicates found"
   ]
  },
  {
   "cell_type": "code",
   "execution_count": 4,
   "metadata": {},
   "outputs": [
    {
     "name": "stdout",
     "output_type": "stream",
     "text": [
      "Name                 616\n",
      "Gender                 4\n",
      "Game                  64\n",
      "Age                   59\n",
      "Age_range              8\n",
      "Playable               2\n",
      "Sexualization          4\n",
      "Id                   637\n",
      "Species               10\n",
      "Side                   3\n",
      "Relevance              6\n",
      "Romantic_Interest      3\n",
      "dtype: int64\n"
     ]
    }
   ],
   "source": [
    "print(characters.nunique())"
   ]
  },
  {
   "cell_type": "markdown",
   "metadata": {},
   "source": [
    "#### Check for null values"
   ]
  },
  {
   "cell_type": "code",
   "execution_count": 5,
   "metadata": {},
   "outputs": [
    {
     "data": {
      "text/plain": [
       "Name                 0\n",
       "Gender               0\n",
       "Game                 0\n",
       "Age                  0\n",
       "Age_range            0\n",
       "Playable             0\n",
       "Sexualization        0\n",
       "Id                   0\n",
       "Species              0\n",
       "Side                 0\n",
       "Relevance            0\n",
       "Romantic_Interest    0\n",
       "dtype: int64"
      ]
     },
     "execution_count": 5,
     "metadata": {},
     "output_type": "execute_result"
    }
   ],
   "source": [
    "characters.isnull().sum()"
   ]
  },
  {
   "cell_type": "markdown",
   "metadata": {},
   "source": [
    "#### Trim leading and trailing space of all string columns"
   ]
  },
  {
   "cell_type": "code",
   "execution_count": 6,
   "metadata": {},
   "outputs": [],
   "source": [
    "characters['Name'] = characters['Name'].str.strip()\n",
    "characters['Gender'] = characters['Gender'].str.strip()\n",
    "characters['Game'] = characters['Game'].str.strip()\n",
    "characters['Age'] = characters['Age'].str.strip()\n",
    "characters['Age_range'] = characters['Age_range'].str.strip()\n",
    "characters['Id'] = characters['Id'].str.strip()\n",
    "characters['Species'] = characters['Species'].str.strip()\n",
    "characters['Side'] = characters['Side'].str.strip()\n",
    "characters['Relevance'] = characters['Relevance'].str.strip()\n",
    "characters['Romantic_Interest'] = characters['Romantic_Interest'].str.strip()"
   ]
  },
  {
   "cell_type": "markdown",
   "metadata": {},
   "source": [
    "#### Last check and Export of the table¶"
   ]
  },
  {
   "cell_type": "code",
   "execution_count": 7,
   "metadata": {},
   "outputs": [
    {
     "data": {
      "text/plain": [
       "Name                 object\n",
       "Gender               object\n",
       "Game                 object\n",
       "Age                  object\n",
       "Age_range            object\n",
       "Playable              int64\n",
       "Sexualization         int64\n",
       "Id                   object\n",
       "Species              object\n",
       "Side                 object\n",
       "Relevance            object\n",
       "Romantic_Interest    object\n",
       "dtype: object"
      ]
     },
     "execution_count": 7,
     "metadata": {},
     "output_type": "execute_result"
    }
   ],
   "source": [
    "characters.dtypes"
   ]
  },
  {
   "cell_type": "code",
   "execution_count": 8,
   "metadata": {},
   "outputs": [
    {
     "data": {
      "text/html": [
       "<div>\n",
       "<style scoped>\n",
       "    .dataframe tbody tr th:only-of-type {\n",
       "        vertical-align: middle;\n",
       "    }\n",
       "\n",
       "    .dataframe tbody tr th {\n",
       "        vertical-align: top;\n",
       "    }\n",
       "\n",
       "    .dataframe thead th {\n",
       "        text-align: right;\n",
       "    }\n",
       "</style>\n",
       "<table border=\"1\" class=\"dataframe\">\n",
       "  <thead>\n",
       "    <tr style=\"text-align: right;\">\n",
       "      <th></th>\n",
       "      <th>Name</th>\n",
       "      <th>Gender</th>\n",
       "      <th>Game</th>\n",
       "      <th>Age</th>\n",
       "      <th>Age_range</th>\n",
       "      <th>Playable</th>\n",
       "      <th>Sexualization</th>\n",
       "      <th>Id</th>\n",
       "      <th>Species</th>\n",
       "      <th>Side</th>\n",
       "      <th>Relevance</th>\n",
       "      <th>Romantic_Interest</th>\n",
       "    </tr>\n",
       "  </thead>\n",
       "  <tbody>\n",
       "    <tr>\n",
       "      <th>0</th>\n",
       "      <td>Farah</td>\n",
       "      <td>Female</td>\n",
       "      <td>CODMW</td>\n",
       "      <td>27</td>\n",
       "      <td>Adult</td>\n",
       "      <td>1</td>\n",
       "      <td>0</td>\n",
       "      <td>CODMW_Farah</td>\n",
       "      <td>Human</td>\n",
       "      <td>P</td>\n",
       "      <td>PA</td>\n",
       "      <td>No</td>\n",
       "    </tr>\n",
       "    <tr>\n",
       "      <th>1</th>\n",
       "      <td>Protagonist</td>\n",
       "      <td>Custom</td>\n",
       "      <td>PSS</td>\n",
       "      <td>Teenager</td>\n",
       "      <td>Teenager</td>\n",
       "      <td>1</td>\n",
       "      <td>0</td>\n",
       "      <td>PSS_Protagonist</td>\n",
       "      <td>Human</td>\n",
       "      <td>P</td>\n",
       "      <td>PA</td>\n",
       "      <td>No</td>\n",
       "    </tr>\n",
       "    <tr>\n",
       "      <th>2</th>\n",
       "      <td>Magnolia</td>\n",
       "      <td>Female</td>\n",
       "      <td>PSS</td>\n",
       "      <td>Elderly</td>\n",
       "      <td>Elderly</td>\n",
       "      <td>0</td>\n",
       "      <td>0</td>\n",
       "      <td>PSS_Magnolia</td>\n",
       "      <td>Human</td>\n",
       "      <td>P</td>\n",
       "      <td>SC</td>\n",
       "      <td>No</td>\n",
       "    </tr>\n",
       "    <tr>\n",
       "      <th>3</th>\n",
       "      <td>Sonia</td>\n",
       "      <td>Female</td>\n",
       "      <td>PSS</td>\n",
       "      <td>26</td>\n",
       "      <td>Adult</td>\n",
       "      <td>0</td>\n",
       "      <td>0</td>\n",
       "      <td>PSS_Sonia</td>\n",
       "      <td>Human</td>\n",
       "      <td>P</td>\n",
       "      <td>SC</td>\n",
       "      <td>No</td>\n",
       "    </tr>\n",
       "    <tr>\n",
       "      <th>4</th>\n",
       "      <td>Marnie</td>\n",
       "      <td>Female</td>\n",
       "      <td>PSS</td>\n",
       "      <td>Teenager</td>\n",
       "      <td>Teenager</td>\n",
       "      <td>0</td>\n",
       "      <td>0</td>\n",
       "      <td>PSS_Marnie</td>\n",
       "      <td>Human</td>\n",
       "      <td>B</td>\n",
       "      <td>MC</td>\n",
       "      <td>No</td>\n",
       "    </tr>\n",
       "    <tr>\n",
       "      <th>5</th>\n",
       "      <td>Oleana</td>\n",
       "      <td>Female</td>\n",
       "      <td>PSS</td>\n",
       "      <td>Adult</td>\n",
       "      <td>Adult</td>\n",
       "      <td>0</td>\n",
       "      <td>0</td>\n",
       "      <td>PSS_Oleana</td>\n",
       "      <td>Human</td>\n",
       "      <td>A</td>\n",
       "      <td>SC</td>\n",
       "      <td>No</td>\n",
       "    </tr>\n",
       "    <tr>\n",
       "      <th>6</th>\n",
       "      <td>Peach</td>\n",
       "      <td>Female</td>\n",
       "      <td>SMO</td>\n",
       "      <td>Adult</td>\n",
       "      <td>Adult</td>\n",
       "      <td>0</td>\n",
       "      <td>2</td>\n",
       "      <td>SMO_Peach</td>\n",
       "      <td>Human</td>\n",
       "      <td>P</td>\n",
       "      <td>MC</td>\n",
       "      <td>Yes</td>\n",
       "    </tr>\n",
       "    <tr>\n",
       "      <th>7</th>\n",
       "      <td>Zelda</td>\n",
       "      <td>Female</td>\n",
       "      <td>BOTW</td>\n",
       "      <td>17</td>\n",
       "      <td>Teenager</td>\n",
       "      <td>0</td>\n",
       "      <td>0</td>\n",
       "      <td>BOTW_Zelda</td>\n",
       "      <td>Human</td>\n",
       "      <td>P</td>\n",
       "      <td>DA</td>\n",
       "      <td>No</td>\n",
       "    </tr>\n",
       "    <tr>\n",
       "      <th>8</th>\n",
       "      <td>Protagonist</td>\n",
       "      <td>Custom</td>\n",
       "      <td>PSM</td>\n",
       "      <td>11</td>\n",
       "      <td>Child</td>\n",
       "      <td>1</td>\n",
       "      <td>0</td>\n",
       "      <td>PSM_Protagonist</td>\n",
       "      <td>Human</td>\n",
       "      <td>P</td>\n",
       "      <td>PA</td>\n",
       "      <td>No</td>\n",
       "    </tr>\n",
       "    <tr>\n",
       "      <th>9</th>\n",
       "      <td>Ciri</td>\n",
       "      <td>Female</td>\n",
       "      <td>TW3</td>\n",
       "      <td>21</td>\n",
       "      <td>Young adult</td>\n",
       "      <td>0</td>\n",
       "      <td>2</td>\n",
       "      <td>TW3_Ciri</td>\n",
       "      <td>Human</td>\n",
       "      <td>P</td>\n",
       "      <td>DA</td>\n",
       "      <td>No</td>\n",
       "    </tr>\n",
       "  </tbody>\n",
       "</table>\n",
       "</div>"
      ],
      "text/plain": [
       "          Name  Gender   Game       Age    Age_range  Playable  Sexualization  \\\n",
       "0        Farah  Female  CODMW        27        Adult         1              0   \n",
       "1  Protagonist  Custom    PSS  Teenager     Teenager         1              0   \n",
       "2     Magnolia  Female    PSS   Elderly      Elderly         0              0   \n",
       "3        Sonia  Female    PSS        26        Adult         0              0   \n",
       "4       Marnie  Female    PSS  Teenager     Teenager         0              0   \n",
       "5       Oleana  Female    PSS     Adult        Adult         0              0   \n",
       "6        Peach  Female    SMO     Adult        Adult         0              2   \n",
       "7        Zelda  Female   BOTW        17     Teenager         0              0   \n",
       "8  Protagonist  Custom    PSM        11        Child         1              0   \n",
       "9         Ciri  Female    TW3        21  Young adult         0              2   \n",
       "\n",
       "                Id Species Side Relevance Romantic_Interest  \n",
       "0      CODMW_Farah   Human    P        PA                No  \n",
       "1  PSS_Protagonist   Human    P        PA                No  \n",
       "2     PSS_Magnolia   Human    P        SC                No  \n",
       "3        PSS_Sonia   Human    P        SC                No  \n",
       "4       PSS_Marnie   Human    B        MC                No  \n",
       "5       PSS_Oleana   Human    A        SC                No  \n",
       "6        SMO_Peach   Human    P        MC               Yes  \n",
       "7       BOTW_Zelda   Human    P        DA                No  \n",
       "8  PSM_Protagonist   Human    P        PA                No  \n",
       "9         TW3_Ciri   Human    P        DA                No  "
      ]
     },
     "execution_count": 8,
     "metadata": {},
     "output_type": "execute_result"
    }
   ],
   "source": [
    "characters.head(10)"
   ]
  },
  {
   "cell_type": "code",
   "execution_count": 9,
   "metadata": {},
   "outputs": [],
   "source": [
    "characters.to_csv('characters_clean.csv')"
   ]
  }
 ],
 "metadata": {
  "kernelspec": {
   "display_name": "Python 3 (ipykernel)",
   "language": "python",
   "name": "python3"
  },
  "language_info": {
   "codemirror_mode": {
    "name": "ipython",
    "version": 3
   },
   "file_extension": ".py",
   "mimetype": "text/x-python",
   "name": "python",
   "nbconvert_exporter": "python",
   "pygments_lexer": "ipython3",
   "version": "3.9.12"
  }
 },
 "nbformat": 4,
 "nbformat_minor": 1
}
