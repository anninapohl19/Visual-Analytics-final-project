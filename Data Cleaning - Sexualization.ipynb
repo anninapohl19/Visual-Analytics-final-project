{
 "cells": [
  {
   "cell_type": "markdown",
   "id": "3807eeb4",
   "metadata": {},
   "source": [
    "# Final Assignment - Visual Analytics"
   ]
  },
  {
   "cell_type": "markdown",
   "id": "71b67e29",
   "metadata": {},
   "source": [
    "by Charlotte, Lena, Lina & Annina"
   ]
  },
  {
   "cell_type": "markdown",
   "id": "f91ba04f",
   "metadata": {},
   "source": [
    "### Data Cleaning - Sexualization Table"
   ]
  },
  {
   "cell_type": "code",
   "execution_count": 1,
   "id": "fea65b16",
   "metadata": {},
   "outputs": [],
   "source": [
    "import pandas as pd"
   ]
  },
  {
   "cell_type": "markdown",
   "id": "dc009a35",
   "metadata": {},
   "source": [
    "#### Import and basic information"
   ]
  },
  {
   "cell_type": "code",
   "execution_count": 2,
   "id": "ece411be",
   "metadata": {},
   "outputs": [
    {
     "name": "stdout",
     "output_type": "stream",
     "text": [
      "                Id  Sexualized_clothing  Trophy  Damsel in Distress  \\\n",
      "0      CODMW_Farah                    0       0                   0   \n",
      "1  PSS_Protagonist                    0       0                   0   \n",
      "2     PSS_Magnolia                    0       0                   0   \n",
      "3        PSS_Sonia                    0       0                   0   \n",
      "4       PSS_Marnie                    0       0                   0   \n",
      "\n",
      "   Sexualized Cutscenes  Total  \n",
      "0                     0      0  \n",
      "1                     0      0  \n",
      "2                     0      0  \n",
      "3                     0      0  \n",
      "4                     0      0  \n",
      "<class 'pandas.core.frame.DataFrame'>\n",
      "RangeIndex: 637 entries, 0 to 636\n",
      "Data columns (total 6 columns):\n",
      " #   Column                Non-Null Count  Dtype \n",
      "---  ------                --------------  ----- \n",
      " 0   Id                    637 non-null    object\n",
      " 1   Sexualized_clothing   637 non-null    int64 \n",
      " 2   Trophy                637 non-null    int64 \n",
      " 3   Damsel in Distress    637 non-null    int64 \n",
      " 4   Sexualized Cutscenes  637 non-null    int64 \n",
      " 5   Total                 637 non-null    int64 \n",
      "dtypes: int64(5), object(1)\n",
      "memory usage: 30.0+ KB\n",
      "None\n",
      "       Sexualized_clothing      Trophy  Damsel in Distress  \\\n",
      "count           637.000000  637.000000          637.000000   \n",
      "mean              0.029827    0.010989            0.028257   \n",
      "std               0.170244    0.104333            0.165838   \n",
      "min               0.000000    0.000000            0.000000   \n",
      "25%               0.000000    0.000000            0.000000   \n",
      "50%               0.000000    0.000000            0.000000   \n",
      "75%               0.000000    0.000000            0.000000   \n",
      "max               1.000000    1.000000            1.000000   \n",
      "\n",
      "       Sexualized Cutscenes       Total  \n",
      "count            637.000000  637.000000  \n",
      "mean               0.017268    0.086342  \n",
      "std                0.130372    0.389022  \n",
      "min                0.000000    0.000000  \n",
      "25%                0.000000    0.000000  \n",
      "50%                0.000000    0.000000  \n",
      "75%                0.000000    0.000000  \n",
      "max                1.000000    3.000000  \n"
     ]
    }
   ],
   "source": [
    "sex = pd.read_csv('sexualization.grivg.csv')\n",
    "print(sex.head())\n",
    "print(sex.info())\n",
    "print(sex.describe())"
   ]
  },
  {
   "cell_type": "markdown",
   "id": "8ae66cdc",
   "metadata": {},
   "source": [
    "#### Check for duplicates"
   ]
  },
  {
   "cell_type": "code",
   "execution_count": 3,
   "id": "51879412",
   "metadata": {},
   "outputs": [
    {
     "data": {
      "text/plain": [
       "0"
      ]
     },
     "execution_count": 3,
     "metadata": {},
     "output_type": "execute_result"
    }
   ],
   "source": [
    "duplicates_char = sex.duplicated()\n",
    "duplicates_char.value_counts()\n",
    "duplicates_char.sum() "
   ]
  },
  {
   "cell_type": "code",
   "execution_count": 4,
   "id": "d994d746",
   "metadata": {},
   "outputs": [
    {
     "data": {
      "text/plain": [
       "Id                      637\n",
       "Sexualized_clothing       2\n",
       "Trophy                    2\n",
       "Damsel in Distress        2\n",
       "Sexualized Cutscenes      2\n",
       "Total                     4\n",
       "dtype: int64"
      ]
     },
     "execution_count": 4,
     "metadata": {},
     "output_type": "execute_result"
    }
   ],
   "source": [
    "sex.nunique()"
   ]
  },
  {
   "cell_type": "markdown",
   "id": "85e1f999",
   "metadata": {},
   "source": [
    "#### Check for null values"
   ]
  },
  {
   "cell_type": "code",
   "execution_count": 5,
   "id": "9acd920e",
   "metadata": {},
   "outputs": [
    {
     "data": {
      "text/plain": [
       "Id                      0\n",
       "Sexualized_clothing     0\n",
       "Trophy                  0\n",
       "Damsel in Distress      0\n",
       "Sexualized Cutscenes    0\n",
       "Total                   0\n",
       "dtype: int64"
      ]
     },
     "execution_count": 5,
     "metadata": {},
     "output_type": "execute_result"
    }
   ],
   "source": [
    "sex.isnull().sum()"
   ]
  },
  {
   "cell_type": "markdown",
   "id": "8a2b9806",
   "metadata": {},
   "source": [
    "#### Trim leading and trailing space of all string columns"
   ]
  },
  {
   "cell_type": "code",
   "execution_count": 6,
   "id": "b9d11236",
   "metadata": {},
   "outputs": [],
   "source": [
    "sex['Id'] = sex['Id'].str.strip()"
   ]
  },
  {
   "cell_type": "markdown",
   "id": "da114be0",
   "metadata": {},
   "source": [
    "#### Last check and Export of the table¶"
   ]
  },
  {
   "cell_type": "code",
   "execution_count": 7,
   "id": "fe9e24c3",
   "metadata": {},
   "outputs": [
    {
     "data": {
      "text/plain": [
       "Id                      object\n",
       "Sexualized_clothing      int64\n",
       "Trophy                   int64\n",
       "Damsel in Distress       int64\n",
       "Sexualized Cutscenes     int64\n",
       "Total                    int64\n",
       "dtype: object"
      ]
     },
     "execution_count": 7,
     "metadata": {},
     "output_type": "execute_result"
    }
   ],
   "source": [
    "# check the types\n",
    "sex.dtypes"
   ]
  },
  {
   "cell_type": "code",
   "execution_count": 8,
   "id": "2a202fa6",
   "metadata": {},
   "outputs": [
    {
     "data": {
      "text/html": [
       "<div>\n",
       "<style scoped>\n",
       "    .dataframe tbody tr th:only-of-type {\n",
       "        vertical-align: middle;\n",
       "    }\n",
       "\n",
       "    .dataframe tbody tr th {\n",
       "        vertical-align: top;\n",
       "    }\n",
       "\n",
       "    .dataframe thead th {\n",
       "        text-align: right;\n",
       "    }\n",
       "</style>\n",
       "<table border=\"1\" class=\"dataframe\">\n",
       "  <thead>\n",
       "    <tr style=\"text-align: right;\">\n",
       "      <th></th>\n",
       "      <th>Id</th>\n",
       "      <th>Sexualized_clothing</th>\n",
       "      <th>Trophy</th>\n",
       "      <th>Damsel in Distress</th>\n",
       "      <th>Sexualized Cutscenes</th>\n",
       "      <th>Total</th>\n",
       "    </tr>\n",
       "  </thead>\n",
       "  <tbody>\n",
       "    <tr>\n",
       "      <th>0</th>\n",
       "      <td>CODMW_Farah</td>\n",
       "      <td>0</td>\n",
       "      <td>0</td>\n",
       "      <td>0</td>\n",
       "      <td>0</td>\n",
       "      <td>0</td>\n",
       "    </tr>\n",
       "    <tr>\n",
       "      <th>1</th>\n",
       "      <td>PSS_Protagonist</td>\n",
       "      <td>0</td>\n",
       "      <td>0</td>\n",
       "      <td>0</td>\n",
       "      <td>0</td>\n",
       "      <td>0</td>\n",
       "    </tr>\n",
       "    <tr>\n",
       "      <th>2</th>\n",
       "      <td>PSS_Magnolia</td>\n",
       "      <td>0</td>\n",
       "      <td>0</td>\n",
       "      <td>0</td>\n",
       "      <td>0</td>\n",
       "      <td>0</td>\n",
       "    </tr>\n",
       "    <tr>\n",
       "      <th>3</th>\n",
       "      <td>PSS_Sonia</td>\n",
       "      <td>0</td>\n",
       "      <td>0</td>\n",
       "      <td>0</td>\n",
       "      <td>0</td>\n",
       "      <td>0</td>\n",
       "    </tr>\n",
       "    <tr>\n",
       "      <th>4</th>\n",
       "      <td>PSS_Marnie</td>\n",
       "      <td>0</td>\n",
       "      <td>0</td>\n",
       "      <td>0</td>\n",
       "      <td>0</td>\n",
       "      <td>0</td>\n",
       "    </tr>\n",
       "    <tr>\n",
       "      <th>5</th>\n",
       "      <td>PSS_Oleana</td>\n",
       "      <td>0</td>\n",
       "      <td>0</td>\n",
       "      <td>0</td>\n",
       "      <td>0</td>\n",
       "      <td>0</td>\n",
       "    </tr>\n",
       "    <tr>\n",
       "      <th>6</th>\n",
       "      <td>SMO_Peach</td>\n",
       "      <td>0</td>\n",
       "      <td>1</td>\n",
       "      <td>1</td>\n",
       "      <td>0</td>\n",
       "      <td>2</td>\n",
       "    </tr>\n",
       "    <tr>\n",
       "      <th>7</th>\n",
       "      <td>BOTW_Zelda</td>\n",
       "      <td>0</td>\n",
       "      <td>0</td>\n",
       "      <td>0</td>\n",
       "      <td>0</td>\n",
       "      <td>0</td>\n",
       "    </tr>\n",
       "    <tr>\n",
       "      <th>8</th>\n",
       "      <td>PSM_Protagonist</td>\n",
       "      <td>0</td>\n",
       "      <td>0</td>\n",
       "      <td>0</td>\n",
       "      <td>0</td>\n",
       "      <td>0</td>\n",
       "    </tr>\n",
       "    <tr>\n",
       "      <th>9</th>\n",
       "      <td>TW3_Ciri</td>\n",
       "      <td>1</td>\n",
       "      <td>0</td>\n",
       "      <td>1</td>\n",
       "      <td>0</td>\n",
       "      <td>2</td>\n",
       "    </tr>\n",
       "  </tbody>\n",
       "</table>\n",
       "</div>"
      ],
      "text/plain": [
       "                Id  Sexualized_clothing  Trophy  Damsel in Distress  \\\n",
       "0      CODMW_Farah                    0       0                   0   \n",
       "1  PSS_Protagonist                    0       0                   0   \n",
       "2     PSS_Magnolia                    0       0                   0   \n",
       "3        PSS_Sonia                    0       0                   0   \n",
       "4       PSS_Marnie                    0       0                   0   \n",
       "5       PSS_Oleana                    0       0                   0   \n",
       "6        SMO_Peach                    0       1                   1   \n",
       "7       BOTW_Zelda                    0       0                   0   \n",
       "8  PSM_Protagonist                    0       0                   0   \n",
       "9         TW3_Ciri                    1       0                   1   \n",
       "\n",
       "   Sexualized Cutscenes  Total  \n",
       "0                     0      0  \n",
       "1                     0      0  \n",
       "2                     0      0  \n",
       "3                     0      0  \n",
       "4                     0      0  \n",
       "5                     0      0  \n",
       "6                     0      2  \n",
       "7                     0      0  \n",
       "8                     0      0  \n",
       "9                     0      2  "
      ]
     },
     "execution_count": 8,
     "metadata": {},
     "output_type": "execute_result"
    }
   ],
   "source": [
    "sex.head(10)"
   ]
  },
  {
   "cell_type": "code",
   "execution_count": 9,
   "id": "fbd77ec7",
   "metadata": {},
   "outputs": [],
   "source": [
    "sex.to_csv('sex_clean.csv')"
   ]
  }
 ],
 "metadata": {
  "kernelspec": {
   "display_name": "Python 3 (ipykernel)",
   "language": "python",
   "name": "python3"
  },
  "language_info": {
   "codemirror_mode": {
    "name": "ipython",
    "version": 3
   },
   "file_extension": ".py",
   "mimetype": "text/x-python",
   "name": "python",
   "nbconvert_exporter": "python",
   "pygments_lexer": "ipython3",
   "version": "3.9.12"
  }
 },
 "nbformat": 4,
 "nbformat_minor": 5
}
